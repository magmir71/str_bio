{
 "cells": [
  {
   "cell_type": "markdown",
   "metadata": {},
   "source": [
    "# Lifehacks:\n",
    "    \n",
    "ls -lt   - узнать какой лог последний\n",
    "\n",
    "sq    - посмотреть статус по job'ам   \n",
    "\n",
    "less   shift+G  - перейти в конец файла"
   ]
  },
  {
   "cell_type": "markdown",
   "metadata": {},
   "source": [
    "## Предварительные работы"
   ]
  },
  {
   "cell_type": "code",
   "execution_count": null,
   "metadata": {
    "collapsed": true
   },
   "outputs": [],
   "source": [
    "cd /hse/amironov/Task8\n",
    "\n",
    "wget ** все необходимые файлы\n",
    "\n",
    "# Bash\n",
    "\n",
    "genconf -f dppc.gro -o b_64.gro -nbox 4 4 4\n",
    "\n",
    "editconf -f b_64.gro -o b_64.pdb\n",
    "editconf -f dppc.gro -o dppc.pdb\n",
    "\n",
    "правим файл в ноутбуке:\n",
    "\n",
    "[ molecules ]\n",
    "; name\tnumber\n",
    "DPPC    **64**\n",
    "\n",
    "Сначала делаем отступ в ячейке от липидов, потом оптимизируем геометрию, потом добавляем воду.\n",
    "Если бы мы сначала добавили воду, то мы с гораздо меньшей вероятностью пришли бы к оптимальной геометрии молекулы.\n",
    "\n",
    "editconf -f b_64.gro -o b_ec -d 0.5\n",
    "\n",
    "grompp -f em -c b_ec -p b -o b_em -maxwarn 2\n",
    "mdrun -deffnm b_em -v"
   ]
  },
  {
   "cell_type": "markdown",
   "metadata": {},
   "source": [
    "## PyMol Analysis of lipid before system optimization"
   ]
  },
  {
   "cell_type": "markdown",
   "metadata": {},
   "source": [
    "dppc:"
   ]
  },
  {
   "cell_type": "markdown",
   "metadata": {},
   "source": [
    "<img src=\"dppc.png\">"
   ]
  },
  {
   "cell_type": "markdown",
   "metadata": {},
   "source": [
    "b_64:"
   ]
  },
  {
   "cell_type": "markdown",
   "metadata": {},
   "source": [
    "<img src=\"b_64.png\">"
   ]
  },
  {
   "cell_type": "markdown",
   "metadata": {},
   "source": [
    "## Оптимизация геометрии"
   ]
  },
  {
   "cell_type": "code",
   "execution_count": null,
   "metadata": {
    "collapsed": true
   },
   "outputs": [],
   "source": [
    "# Bash\n",
    "\n",
    "grompp -f em -c b_ec -p b -o b_em -maxwarn 2\n",
    "\n",
    "mdrun -deffnm b_em -v"
   ]
  },
  {
   "cell_type": "markdown",
   "metadata": {},
   "source": [
    "Максимальная длина уменьшилась с 2.02*10^-2 nm до 1.9*10^-6 nm\n",
    "\n",
    "Максимальная сила уменьшилась с 4.38*10^5 до 6.17*10^2\n",
    "\n",
    "- формула силового поля\n",
    "- либо параболические либо еще более сложные взаимодействия, но номер атома постоянно меняется \n"
   ]
  },
  {
   "cell_type": "markdown",
   "metadata": {},
   "source": [
    "## Добавляем воду"
   ]
  },
  {
   "cell_type": "code",
   "execution_count": null,
   "metadata": {
    "collapsed": true
   },
   "outputs": [],
   "source": [
    "# Bash\n",
    "\n",
    "genbox -cp b_em -p b -cs spc216 -o b_s\n",
    "grompp -f pr -c b_s -p b -o b_pr -maxwarn 1\n",
    "mdrun -deffnm b_pr -v"
   ]
  },
  {
   "cell_type": "markdown",
   "metadata": {},
   "source": [
    "Взрыва системы не было"
   ]
  },
  {
   "cell_type": "code",
   "execution_count": null,
   "metadata": {
    "collapsed": true
   },
   "outputs": [],
   "source": [
    "# Bash\n",
    "\n",
    "grompp -f pr -c b_empr -p b -o b_pr -maxwarn 1\n",
    "mdrun -deffnm b_pr -v"
   ]
  },
  {
   "cell_type": "markdown",
   "metadata": {},
   "source": [
    "## Переводим в pdb"
   ]
  },
  {
   "cell_type": "code",
   "execution_count": null,
   "metadata": {
    "collapsed": true
   },
   "outputs": [],
   "source": [
    "# Bash\n",
    "\n",
    "editconf -f b_pr.gro -o b_pr.pdb\n",
    "editconf -f b_s.gro -o b_s.pdb"
   ]
  },
  {
   "cell_type": "markdown",
   "metadata": {},
   "source": [
    "## PyMol Analysis of lipid after system optimization"
   ]
  },
  {
   "cell_type": "markdown",
   "metadata": {},
   "source": [
    "b_pr:"
   ]
  },
  {
   "cell_type": "markdown",
   "metadata": {},
   "source": [
    "<img src=\"b_pr.png\">"
   ]
  },
  {
   "cell_type": "markdown",
   "metadata": {},
   "source": [
    "b_s:"
   ]
  },
  {
   "cell_type": "markdown",
   "metadata": {},
   "source": [
    "<img src=\"b_s.png\">"
   ]
  },
  {
   "cell_type": "markdown",
   "metadata": {},
   "source": [
    "b_s, убрали воду:"
   ]
  },
  {
   "cell_type": "markdown",
   "metadata": {},
   "source": [
    "<img src=\"b_s_without_water.png\">"
   ]
  },
  {
   "cell_type": "markdown",
   "metadata": {},
   "source": [
    "**Если сравнить последнюю картинку с первой (b_64), то заметим, что на самом деле изменений в структуре липидного бислоя не произошло!**"
   ]
  },
  {
   "cell_type": "markdown",
   "metadata": {},
   "source": [
    "## Копируем файлы"
   ]
  },
  {
   "cell_type": "code",
   "execution_count": null,
   "metadata": {
    "collapsed": true
   },
   "outputs": [],
   "source": [
    "# Bash\n",
    "\n",
    "cd ..\n",
    "scp -r ./Task8 lom:_scratch/chem/\n",
    "    \n",
    "пароль pracchem"
   ]
  },
  {
   "cell_type": "markdown",
   "metadata": {},
   "source": [
    "## Тестовое моделирование на суперкомпьтере"
   ]
  },
  {
   "cell_type": "code",
   "execution_count": null,
   "metadata": {
    "collapsed": true
   },
   "outputs": [],
   "source": [
    "# Bash\n",
    "\n",
    "ssh lom\n",
    "cd _scratch/chem/Task8\n",
    "cp /home/users/golovin/progs/share/gromacs/top/residuetypes.dat .\n",
    "grompp -f md -c b_pr -p b -o b_md -maxwarn 1\n",
    "sbatch -n 4 -e error.log -o output.log -t 5 -p test impi /opt/ccoe/gromacs-5.0.4/build/bin/gmx_mpi mdrun -testverlet -deffnm b_md -v"
   ]
  },
  {
   "cell_type": "markdown",
   "metadata": {},
   "source": [
    "job: 1662130"
   ]
  },
  {
   "cell_type": "markdown",
   "metadata": {},
   "source": [
    "Смотрим на файл output.log после того, как job пропал из списка.\n",
    "\n",
    "файл пустой!\n",
    "\n",
    "смотрим на error.log:"
   ]
  },
  {
   "cell_type": "markdown",
   "metadata": {},
   "source": [
    "<img src=\"error log.png\">"
   ]
  },
  {
   "cell_type": "markdown",
   "metadata": {},
   "source": [
    "Также выше в этом файле было указано, что GPU не удалось инициализировать."
   ]
  },
  {
   "cell_type": "markdown",
   "metadata": {},
   "source": [
    "\n",
    "## Основное моделирование на суперкомпьтере"
   ]
  },
  {
   "cell_type": "code",
   "execution_count": null,
   "metadata": {
    "collapsed": true
   },
   "outputs": [],
   "source": [
    "# Bash\n",
    "\n",
    "sbatch -N1 --ntasks-per-node=2 -e error-gpu.log -o output.log -t 350 -p gpu impi /opt/ccoe/gromacs-5.0.4/build/bin/gmx_mpi mdrun -testverlet -deffnm  b_md -v"
   ]
  },
  {
   "cell_type": "markdown",
   "metadata": {},
   "source": [
    "Задача №: 1662201  "
   ]
  },
  {
   "cell_type": "code",
   "execution_count": 3,
   "metadata": {
    "collapsed": true
   },
   "outputs": [],
   "source": []
  }
 ],
 "metadata": {
  "kernelspec": {
   "display_name": "Python 2",
   "language": "python",
   "name": "python2"
  },
  "language_info": {
   "codemirror_mode": {
    "name": "ipython",
    "version": 2
   },
   "file_extension": ".py",
   "mimetype": "text/x-python",
   "name": "python",
   "nbconvert_exporter": "python",
   "pygments_lexer": "ipython2",
   "version": "2.7.14"
  }
 },
 "nbformat": 4,
 "nbformat_minor": 2
}
