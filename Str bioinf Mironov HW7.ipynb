{
 "cells": [
  {
   "cell_type": "markdown",
   "metadata": {},
   "source": [
    "**Директория на ShadBox:**\n",
    "\n",
    "/hse/amironov/Task7"
   ]
  },
  {
   "cell_type": "markdown",
   "metadata": {},
   "source": [
    "**Докинг низкомолекулярных лигандов в структуру белка**"
   ]
  },
  {
   "cell_type": "code",
   "execution_count": 2,
   "metadata": {},
   "outputs": [],
   "source": [
    "import numpy as np\n",
    "import pandas as pd\n",
    "import copy\n",
    "\n",
    "# Отображение структур\n",
    "import IPython.display\n",
    "import ipywidgets\n",
    "from IPython.display import display,display_svg,SVG,Image\n",
    "\n",
    "# Open Drug Discovery Toolkit\n",
    "import oddt\n",
    "import oddt.docking\n",
    "import oddt.interactions\n",
    "\n",
    "# Органика\n",
    "from rdkit.Chem import Draw\n",
    "from rdkit.Chem.Draw import IPythonConsole\n",
    "\n",
    "import pmx # Модуль для манипулирования pdb"
   ]
  },
  {
   "cell_type": "code",
   "execution_count": 4,
   "metadata": {},
   "outputs": [
    {
     "name": "stdout",
     "output_type": "stream",
     "text": [
      "<Molecule: id = 136 name = THR chain_id =    natoms = 7>\n",
      "<Molecule: id = 137 name = ASP chain_id =    natoms = 8>\n",
      "<Molecule: id = 138 name = VAL chain_id =    natoms = 7>\n",
      "<Molecule: id = 139 name = GLN chain_id =    natoms = 9>\n",
      "<Molecule: id = 140 name = ALA chain_id =    natoms = 5>\n",
      "<Molecule: id = 141 name = TRP chain_id =    natoms = 14>\n",
      "<Molecule: id = 142 name = ILE chain_id =    natoms = 8>\n",
      "<Molecule: id = 143 name = ARG chain_id =    natoms = 11>\n",
      "<Molecule: id = 144 name = GLY chain_id =    natoms = 4>\n",
      "<Molecule: id = 145 name = CYS chain_id =    natoms = 6>\n",
      "<Molecule: id = 146 name = ARG chain_id =    natoms = 11>\n",
      "<Molecule: id = 147 name = LEU chain_id =    natoms = 9>\n",
      "<Molecule: id = 148 name = NAG chain_id =    natoms = 14>\n",
      "<Molecule: id = 149 name = NAG chain_id =    natoms = 14>\n",
      "<Molecule: id = 150 name = NDG chain_id =    natoms = 15>\n"
     ]
    }
   ],
   "source": [
    "pdb=pmx.Model('good.B99990001.pdb')\n",
    "\n",
    "for r in pdb.residues[135:]:\n",
    "    print r #посмотрим остатки"
   ]
  },
  {
   "cell_type": "markdown",
   "metadata": {},
   "source": [
    "Последние 3 остатка (NAG, NAG, NDG) являются присоединенным лигандом"
   ]
  },
  {
   "cell_type": "code",
   "execution_count": 6,
   "metadata": {},
   "outputs": [],
   "source": [
    "# создание объектов белок и лиганда\n",
    "newpdb = pdb.copy()\n",
    "for r in newpdb.residues[-3:]:\n",
    "    newpdb.remove_residue(r)\n",
    "\n",
    "lig = pdb.copy()\n",
    "del lig.residues[:-3]"
   ]
  },
  {
   "cell_type": "code",
   "execution_count": 14,
   "metadata": {},
   "outputs": [
    {
     "data": {
      "text/plain": [
       "array([ 46.78908234,  31.34831409,  23.29865025])"
      ]
     },
     "execution_count": 14,
     "metadata": {},
     "output_type": "execute_result"
    }
   ],
   "source": [
    "s = np.zeros(3)\n",
    "for a in lig.atoms:\n",
    "    s = s + a.x \n",
    "ligand_center = s/len(lig.atoms)\n",
    "ligand_center"
   ]
  },
  {
   "cell_type": "code",
   "execution_count": 8,
   "metadata": {},
   "outputs": [],
   "source": [
    "newpdb.writePDB('newPDB.pdb')"
   ]
  },
  {
   "cell_type": "markdown",
   "metadata": {},
   "source": [
    "**Готовим белок для докинга**"
   ]
  },
  {
   "cell_type": "code",
   "execution_count": 9,
   "metadata": {},
   "outputs": [
    {
     "data": {
      "text/plain": [
       "True"
      ]
     },
     "execution_count": 9,
     "metadata": {},
     "output_type": "execute_result"
    }
   ],
   "source": [
    "prot = oddt.toolkit.readfile('pdb','newPDB.pdb').next()\n",
    "\n",
    "prot.OBMol.AddPolarHydrogens()\n",
    "prot.OBMol.AutomaticPartialCharge()"
   ]
  },
  {
   "cell_type": "markdown",
   "metadata": {},
   "source": [
    "**Лиганды для докинга**"
   ]
  },
  {
   "cell_type": "code",
   "execution_count": 11,
   "metadata": {},
   "outputs": [
    {
     "data": {
      "image/svg+xml": [
       "<svg height=\"200px\" id=\"topsvg\" version=\"1.1\" viewBox=\"0 0 100 100\" width=\"200px\" x=\"0\" xmlns=\"http://www.w3.org/2000/svg\" xmlns:cml=\"http://www.xml-cml.org/schema\" xmlns:xlink=\"http://www.w3.org/1999/xlink\" y=\"0\">\n",
       "<title>***** - Open Babel Depiction</title>\n",
       "<rect fill=\"white\" height=\"100\" width=\"100\" x=\"0\" y=\"0\"/>\n",
       "<g transform=\"translate(0,0)\">\n",
       "<svg font-family=\"sans-serif\" height=\"100\" stroke=\"rgb(0,0,0)\" stroke-linecap=\"round\" stroke-width=\"2\" viewBox=\"0 0 183.923 200\" width=\"100\" x=\"0\" y=\"0\">\n",
       "<line stroke=\"rgb(0,0,0)\" stroke-width=\"2.0\" x1=\"74.6\" x2=\"51.3\" y1=\"100.0\" y2=\"86.5\"/>\n",
       "<line stroke=\"rgb(0,0,0)\" stroke-width=\"2.0\" x1=\"40.0\" x2=\"40.0\" y1=\"67.0\" y2=\"53.0\"/>\n",
       "<line stroke=\"rgb(0,0,0)\" stroke-width=\"2.0\" x1=\"143.9\" x2=\"143.9\" y1=\"140.0\" y2=\"100.0\"/>\n",
       "<line stroke=\"rgb(0,0,0)\" stroke-width=\"2.0\" x1=\"136.7\" x2=\"136.7\" y1=\"134.0\" y2=\"106.0\"/>\n",
       "<line stroke=\"rgb(0,0,0)\" stroke-width=\"2.0\" x1=\"143.9\" x2=\"109.3\" y1=\"100.0\" y2=\"80.0\"/>\n",
       "<line stroke=\"rgb(0,0,0)\" stroke-width=\"2.0\" x1=\"109.3\" x2=\"74.6\" y1=\"80.0\" y2=\"100.0\"/>\n",
       "<line stroke=\"rgb(0,0,0)\" stroke-width=\"2.0\" x1=\"107.7\" x2=\"83.4\" y1=\"89.2\" y2=\"103.2\"/>\n",
       "<line stroke=\"rgb(0,0,0)\" stroke-width=\"2.0\" x1=\"74.6\" x2=\"74.6\" y1=\"100.0\" y2=\"140.0\"/>\n",
       "<line stroke=\"rgb(0,0,0)\" stroke-width=\"2.0\" x1=\"74.6\" x2=\"109.3\" y1=\"140.0\" y2=\"160.0\"/>\n",
       "<line stroke=\"rgb(0,0,0)\" stroke-width=\"2.0\" x1=\"83.4\" x2=\"107.7\" y1=\"136.8\" y2=\"150.8\"/>\n",
       "<line stroke=\"rgb(0,0,0)\" stroke-width=\"2.0\" x1=\"109.3\" x2=\"143.9\" y1=\"160.0\" y2=\"140.0\"/>\n",
       "<text fill=\"rgb(255,12,12)\" font-size=\"16\" stroke=\"rgb(255,12,12)\" stroke-width=\"1\" x=\"34.000000\" y=\"88.000000\">O</text>\n",
       "<text fill=\"rgb(191,191,191)\" font-size=\"16\" stroke=\"rgb(191,191,191)\" stroke-width=\"1\" x=\"34.000000\" y=\"48.000000\">H</text>\n",
       "</svg>\n",
       "</g>\n",
       "<text fill=\"black\" font-family=\"sans-serif\" font-size=\"18.000000\" x=\"10.000000\" y=\"20.000000\">*****</text>\n",
       "</svg>"
      ]
     },
     "metadata": {},
     "output_type": "display_data"
    },
    {
     "data": {
      "image/svg+xml": [
       "<svg height=\"200px\" id=\"topsvg\" version=\"1.1\" viewBox=\"0 0 100 100\" width=\"200px\" x=\"0\" xmlns=\"http://www.w3.org/2000/svg\" xmlns:cml=\"http://www.xml-cml.org/schema\" xmlns:xlink=\"http://www.w3.org/1999/xlink\" y=\"0\">\n",
       "<title>***** - Open Babel Depiction</title>\n",
       "<rect fill=\"white\" height=\"100\" width=\"100\" x=\"0\" y=\"0\"/>\n",
       "<g transform=\"translate(0,0)\">\n",
       "<svg font-family=\"sans-serif\" height=\"100\" stroke=\"rgb(0,0,0)\" stroke-linecap=\"round\" stroke-width=\"2\" viewBox=\"0 0 287.846 160\" width=\"100\" x=\"0\" y=\"0\">\n",
       "<line stroke=\"rgb(0,0,0)\" stroke-width=\"2.0\" x1=\"109.3\" x2=\"85.9\" y1=\"100.0\" y2=\"113.5\"/>\n",
       "<line stroke=\"rgb(0,0,0)\" stroke-width=\"2.0\" x1=\"178.6\" x2=\"201.9\" y1=\"60.0\" y2=\"46.5\"/>\n",
       "<line stroke=\"rgb(0,0,0)\" stroke-width=\"2.0\" x1=\"63.4\" x2=\"51.3\" y1=\"113.5\" y2=\"106.5\"/>\n",
       "<line stroke=\"rgb(0,0,0)\" stroke-width=\"2.0\" x1=\"224.5\" x2=\"236.6\" y1=\"46.5\" y2=\"53.5\"/>\n",
       "<line stroke=\"rgb(0,0,0)\" stroke-width=\"2.0\" x1=\"109.3\" x2=\"143.9\" y1=\"100.0\" y2=\"120.0\"/>\n",
       "<line stroke=\"rgb(0,0,0)\" stroke-width=\"2.0\" x1=\"118.1\" x2=\"142.3\" y1=\"96.8\" y2=\"110.8\"/>\n",
       "<line stroke=\"rgb(0,0,0)\" stroke-width=\"2.0\" x1=\"143.9\" x2=\"178.6\" y1=\"120.0\" y2=\"100.0\"/>\n",
       "<line stroke=\"rgb(0,0,0)\" stroke-width=\"2.0\" x1=\"178.6\" x2=\"178.6\" y1=\"100.0\" y2=\"60.0\"/>\n",
       "<line stroke=\"rgb(0,0,0)\" stroke-width=\"2.0\" x1=\"171.4\" x2=\"171.4\" y1=\"94.0\" y2=\"66.0\"/>\n",
       "<line stroke=\"rgb(0,0,0)\" stroke-width=\"2.0\" x1=\"178.6\" x2=\"143.9\" y1=\"60.0\" y2=\"40.0\"/>\n",
       "<line stroke=\"rgb(0,0,0)\" stroke-width=\"2.0\" x1=\"143.9\" x2=\"109.3\" y1=\"40.0\" y2=\"60.0\"/>\n",
       "<line stroke=\"rgb(0,0,0)\" stroke-width=\"2.0\" x1=\"142.3\" x2=\"118.1\" y1=\"49.2\" y2=\"63.2\"/>\n",
       "<line stroke=\"rgb(0,0,0)\" stroke-width=\"2.0\" x1=\"109.3\" x2=\"109.3\" y1=\"60.0\" y2=\"100.0\"/>\n",
       "<text fill=\"rgb(255,12,12)\" font-size=\"16\" stroke=\"rgb(255,12,12)\" stroke-width=\"1\" x=\"68.641016\" y=\"128.000000\">O</text>\n",
       "<text fill=\"rgb(255,12,12)\" font-size=\"16\" stroke=\"rgb(255,12,12)\" stroke-width=\"1\" x=\"207.205081\" y=\"48.000000\">O</text>\n",
       "<text fill=\"rgb(191,191,191)\" font-size=\"16\" stroke=\"rgb(191,191,191)\" stroke-width=\"1\" x=\"34.000000\" y=\"108.000000\">H</text>\n",
       "<text fill=\"rgb(191,191,191)\" font-size=\"16\" stroke=\"rgb(191,191,191)\" stroke-width=\"1\" x=\"241.846097\" y=\"68.000000\">H</text>\n",
       "</svg>\n",
       "</g>\n",
       "<text fill=\"black\" font-family=\"sans-serif\" font-size=\"18.000000\" x=\"10.000000\" y=\"20.000000\">*****</text>\n",
       "</svg>"
      ]
     },
     "metadata": {},
     "output_type": "display_data"
    },
    {
     "data": {
      "image/svg+xml": [
       "<svg height=\"200px\" id=\"topsvg\" version=\"1.1\" viewBox=\"0 0 100 100\" width=\"200px\" x=\"0\" xmlns=\"http://www.w3.org/2000/svg\" xmlns:cml=\"http://www.xml-cml.org/schema\" xmlns:xlink=\"http://www.w3.org/1999/xlink\" y=\"0\">\n",
       "<title>***** - Open Babel Depiction</title>\n",
       "<rect fill=\"white\" height=\"100\" width=\"100\" x=\"0\" y=\"0\"/>\n",
       "<g transform=\"translate(0,0)\">\n",
       "<svg font-family=\"sans-serif\" height=\"100\" stroke=\"rgb(0,0,0)\" stroke-linecap=\"round\" stroke-width=\"2\" viewBox=\"0 0 322.487 280\" width=\"100\" x=\"0\" y=\"0\">\n",
       "<line stroke=\"rgb(0,0,0)\" stroke-width=\"2.0\" x1=\"178.6\" x2=\"178.6\" y1=\"180.0\" y2=\"207.0\"/>\n",
       "<line stroke=\"rgb(0,0,0)\" stroke-width=\"2.0\" x1=\"143.9\" x2=\"109.3\" y1=\"120.0\" y2=\"100.0\"/>\n",
       "<line stroke=\"rgb(0,0,0)\" stroke-width=\"2.0\" x1=\"213.2\" x2=\"236.6\" y1=\"120.0\" y2=\"106.5\"/>\n",
       "<line stroke=\"rgb(0,0,0)\" stroke-width=\"2.0\" x1=\"167.3\" x2=\"155.2\" y1=\"226.5\" y2=\"233.5\"/>\n",
       "<line stroke=\"rgb(0,0,0)\" stroke-width=\"2.0\" x1=\"259.1\" x2=\"271.2\" y1=\"106.5\" y2=\"113.5\"/>\n",
       "<line stroke=\"rgb(0,0,0)\" stroke-width=\"2.0\" x1=\"74.6\" x2=\"109.3\" y1=\"120.0\" y2=\"100.0\"/>\n",
       "<line stroke=\"rgb(0,0,0)\" stroke-width=\"2.0\" x1=\"76.2\" x2=\"100.5\" y1=\"110.8\" y2=\"96.8\"/>\n",
       "<line stroke=\"rgb(0,0,0)\" stroke-width=\"2.0\" x1=\"109.3\" x2=\"109.3\" y1=\"100.0\" y2=\"60.0\"/>\n",
       "<line stroke=\"rgb(0,0,0)\" stroke-width=\"2.0\" x1=\"109.3\" x2=\"74.6\" y1=\"60.0\" y2=\"40.0\"/>\n",
       "<line stroke=\"rgb(0,0,0)\" stroke-width=\"2.0\" x1=\"100.5\" x2=\"76.2\" y1=\"63.2\" y2=\"49.2\"/>\n",
       "<line stroke=\"rgb(0,0,0)\" stroke-width=\"2.0\" x1=\"74.6\" x2=\"40.0\" y1=\"40.0\" y2=\"60.0\"/>\n",
       "<line stroke=\"rgb(0,0,0)\" stroke-width=\"2.0\" x1=\"40.0\" x2=\"40.0\" y1=\"60.0\" y2=\"100.0\"/>\n",
       "<line stroke=\"rgb(0,0,0)\" stroke-width=\"2.0\" x1=\"47.2\" x2=\"47.2\" y1=\"66.0\" y2=\"94.0\"/>\n",
       "<line stroke=\"rgb(0,0,0)\" stroke-width=\"2.0\" x1=\"40.0\" x2=\"74.6\" y1=\"100.0\" y2=\"120.0\"/>\n",
       "<line stroke=\"rgb(0,0,0)\" stroke-width=\"2.0\" x1=\"143.9\" x2=\"178.6\" y1=\"160.0\" y2=\"180.0\"/>\n",
       "<line stroke=\"rgb(0,0,0)\" stroke-width=\"2.0\" x1=\"152.7\" x2=\"177.0\" y1=\"156.8\" y2=\"170.8\"/>\n",
       "<line stroke=\"rgb(0,0,0)\" stroke-width=\"2.0\" x1=\"178.6\" x2=\"213.2\" y1=\"180.0\" y2=\"160.0\"/>\n",
       "<line stroke=\"rgb(0,0,0)\" stroke-width=\"2.0\" x1=\"213.2\" x2=\"213.2\" y1=\"160.0\" y2=\"120.0\"/>\n",
       "<line stroke=\"rgb(0,0,0)\" stroke-width=\"2.0\" x1=\"206.0\" x2=\"206.0\" y1=\"154.0\" y2=\"126.0\"/>\n",
       "<line stroke=\"rgb(0,0,0)\" stroke-width=\"2.0\" x1=\"213.2\" x2=\"178.6\" y1=\"120.0\" y2=\"100.0\"/>\n",
       "<line stroke=\"rgb(0,0,0)\" stroke-width=\"2.0\" x1=\"178.6\" x2=\"143.9\" y1=\"100.0\" y2=\"120.0\"/>\n",
       "<line stroke=\"rgb(0,0,0)\" stroke-width=\"2.0\" x1=\"177.0\" x2=\"152.7\" y1=\"109.2\" y2=\"123.2\"/>\n",
       "<line stroke=\"rgb(0,0,0)\" stroke-width=\"2.0\" x1=\"143.9\" x2=\"143.9\" y1=\"120.0\" y2=\"160.0\"/>\n",
       "<text fill=\"rgb(255,12,12)\" font-size=\"16\" stroke=\"rgb(255,12,12)\" stroke-width=\"1\" x=\"172.564065\" y=\"228.000000\">O</text>\n",
       "<text fill=\"rgb(255,12,12)\" font-size=\"16\" stroke=\"rgb(255,12,12)\" stroke-width=\"1\" x=\"241.846097\" y=\"108.000000\">O</text>\n",
       "<text fill=\"rgb(191,191,191)\" font-size=\"16\" stroke=\"rgb(191,191,191)\" stroke-width=\"1\" x=\"137.923048\" y=\"248.000000\">H</text>\n",
       "<text fill=\"rgb(191,191,191)\" font-size=\"16\" stroke=\"rgb(191,191,191)\" stroke-width=\"1\" x=\"276.487113\" y=\"128.000000\">H</text>\n",
       "</svg>\n",
       "</g>\n",
       "<text fill=\"black\" font-family=\"sans-serif\" font-size=\"18.000000\" x=\"10.000000\" y=\"20.000000\">*****</text>\n",
       "</svg>"
      ]
     },
     "metadata": {},
     "output_type": "display_data"
    }
   ],
   "source": [
    "smiles = ['c1cccc(O)c1', 'c1c(O)ccc(O)c1','c1(O)cc(c2ccccc2)cc(O)c1']\n",
    "mols= []\n",
    "images =[]\n",
    "\n",
    "for s in smiles:\n",
    "    m = oddt.toolkit.readstring('smi', s)\n",
    "    if not m.OBMol.Has3D(): \n",
    "        m.make3D(forcefield='mmff94', steps=150)\n",
    "        m.removeh()\n",
    "        m.OBMol.AddPolarHydrogens()\n",
    "\n",
    "    mols.append(m)\n",
    "    ###with print m.OBMol.Has3D() was found that:\n",
    "    ### deep copy needed to keep 3D , write svg make mols flat\n",
    "    images.append((SVG(copy.deepcopy(m).write('svg'))))\n",
    "\n",
    "display_svg(*images)"
   ]
  },
  {
   "cell_type": "code",
   "execution_count": 15,
   "metadata": {},
   "outputs": [],
   "source": [
    "xx = ligand_center[0]\n",
    "yy = ligand_center[1]\n",
    "zz = ligand_center[2]"
   ]
  },
  {
   "cell_type": "code",
   "execution_count": 16,
   "metadata": {},
   "outputs": [
    {
     "name": "stdout",
     "output_type": "stream",
     "text": [
      "/tmp/autodock_vina_3I5sBz\n"
     ]
    }
   ],
   "source": [
    "dock_obj= oddt.docking.AutodockVina.autodock_vina(\n",
    "    protein=prot,size=(20,20,20),center=[xx,yy,zz],\n",
    "    executable='/usr/bin/vina',autocleanup=True, num_modes=9)\n",
    "print dock_obj.tmp_dir"
   ]
  },
  {
   "cell_type": "code",
   "execution_count": 17,
   "metadata": {},
   "outputs": [
    {
     "name": "stdout",
     "output_type": "stream",
     "text": [
      "Center coordinates\n",
      "--center_x 46.789082343 --center_y 31.3483140917 --center_z 23.2986502547\n",
      "№ of points\n",
      "--size_x 20 --size_y 20 --size_z 20\n",
      "Number Of CPU Cores\n",
      "--cpu 1\n",
      "Exhaustiveness parameter\n",
      "--exhaustiveness 8\n",
      "Number of conformations generated by Autodock Vina\n",
      "--num_modes 9\n",
      "Energy range cutoff for Autodock Vina\n",
      "--energy_range 3\n"
     ]
    }
   ],
   "source": [
    "print('Center coordinates')\n",
    "print \" \".join(dock_obj.params[0:6])\n",
    "print (\"№ of points\")\n",
    "print \" \".join(dock_obj.params[6:12])\n",
    "print (\"Number Of CPU Cores\")\n",
    "print \" \".join(dock_obj.params[12:14])\n",
    "print(\"Exhaustiveness parameter\")\n",
    "print \" \".join(dock_obj.params[14:16])\n",
    "print(\"Number of conformations generated by Autodock Vina\")\n",
    "print \" \".join(dock_obj.params[16:18])\n",
    "print(\"Energy range cutoff for Autodock Vina\")\n",
    "print \" \".join(dock_obj.params[18:20])"
   ]
  },
  {
   "cell_type": "code",
   "execution_count": 18,
   "metadata": {},
   "outputs": [],
   "source": [
    "res = dock_obj.dock(mols,prot)"
   ]
  }
 ],
 "metadata": {
  "kernelspec": {
   "display_name": "hse-py27",
   "language": "python",
   "name": "hse"
  },
  "language_info": {
   "codemirror_mode": {
    "name": "ipython",
    "version": 2
   },
   "file_extension": ".py",
   "mimetype": "text/x-python",
   "name": "python",
   "nbconvert_exporter": "python",
   "pygments_lexer": "ipython2",
   "version": "2.7.14"
  }
 },
 "nbformat": 4,
 "nbformat_minor": 2
}
