{
 "cells": [
  {
   "cell_type": "markdown",
   "metadata": {},
   "source": [
    "**Загрузка пакетов**"
   ]
  },
  {
   "cell_type": "code",
   "execution_count": 5,
   "metadata": {},
   "outputs": [],
   "source": [
    "%matplotlib inline\n",
    "import matplotlib.pyplot as plt\n",
    "from scipy import optimize \n",
    "import subprocess\n",
    "import numpy as np\n",
    "import math\n",
    "\n",
    "from rdkit import Chem\n",
    "from rdkit.Chem import AllChem\n",
    "from rdkit import RDConfig\n",
    "from rdkit.Chem.Draw import IPythonConsole \n",
    "from rdkit.Chem import Draw\n",
    "from IPython.display import display,Image"
   ]
  },
  {
   "cell_type": "markdown",
   "metadata": {},
   "source": [
    "**Задача** -> Определение констант ковалентных взаимодействий для молекулярной механики этана на основе квантово-химических расчётов"
   ]
  },
  {
   "cell_type": "code",
   "execution_count": 7,
   "metadata": {},
   "outputs": [
    {
     "data": {
      "image/png": "[encoded data removed]",
      "text/plain": [
       "<rdkit.Chem.rdchem.Mol at 0x7f0caeecc2f0>"
      ]
     },
     "metadata": {},
     "output_type": "display_data"
    }
   ],
   "source": [
    "etan=Chem.MolFromSmiles('CC')\n",
    "AllChem.Compute2DCoords(etan)\n",
    "display(etan)"
   ]
  },
  {
   "cell_type": "code",
   "execution_count": null,
   "metadata": {},
   "outputs": [],
   "source": [
    "# Имеем на входе оптимизированную структуру этана:\n",
    "\n",
    "inp = '''!HF RHF 6-31G\n",
    "* int 0 1\n",
    "C 0 0 0 0 0 0 \n",
    "C 1 0 0 1.52986 0 0 \n",
    "H 1 2 0 1.08439 111.200 0\n",
    "H 1 2 3 1.08439 111.200 120\n",
    "H 1 2 3 1.08439 111.200 -120\n",
    "H 2 1 3 1.08439 111.200 180\n",
    "H 2 1 5 1.08439 111.200 120\n",
    "H 2 1 5 1.08439 111.200 -120\n",
    "*\n",
    "'''\n",
    "\n",
    "# Из кода на \"птичьем\" языке видим, что расчет оптимальной структуры был сделан так, \n",
    "# что для внутренних электронов использовались 6 гауссианов с фиксированными коэффициентами,\n",
    "# для \"внешних\", валентных, электронов, участвующих в ковалентных взаимодействиях, коэффициенты в 3 гауссианах фиксированы,\n",
    "# в 1 гауссиане - вариабельные и оптимизировались.\n",
    "\n",
    "# В Z-matrix:\n",
    "# 5 колонка - длина связи\n",
    "# 6 колонка - валентный угол\n",
    "# 7 колонка - торсионный угол"
   ]
  },
  {
   "cell_type": "markdown",
   "metadata": {},
   "source": [
    "Функция для генерации файлов для ORCA (.inp):"
   ]
  },
  {
   "cell_type": "code",
   "execution_count": 36,
   "metadata": {},
   "outputs": [],
   "source": [
    "def inp_len(length):\n",
    "    inp = '''!HF RHF 6-31G\n",
    "    * int 0 1\n",
    "    C 0 0 0 0 0 0 \n",
    "    C 1 0 0 {} 0 0 \n",
    "    H 1 2 0 1.08439 111.200 0\n",
    "    H 1 2 3 1.08439 111.200 120\n",
    "    H 1 2 3 1.08439 111.200 -120\n",
    "    H 2 1 3 1.08439 111.200 180\n",
    "    H 2 1 5 1.08439 111.200 120\n",
    "    H 2 1 5 1.08439 111.200 -120\n",
    "    *\n",
    "    '''.format(length)\n",
    "    return inp"
   ]
  },
  {
   "cell_type": "markdown",
   "metadata": {},
   "source": [
    "Функция по запуску ORCA:"
   ]
  },
  {
   "cell_type": "code",
   "execution_count": 10,
   "metadata": {},
   "outputs": [],
   "source": [
    "def run_orca(inp):\n",
    "    with open('orca.inp', 'w') as outfile:\n",
    "        outfile.write(inp)\n",
    "    p = subprocess.Popen(\"/home/shad/progs/bin/orca orca.inp\", \n",
    "                          shell=True, stdout=subprocess.PIPE, stderr=subprocess.PIPE)\n",
    "    out=p.communicate()[0]\n",
    "    \n",
    "    # extract energy: FINAL SINGLE POINT ENERGY'\n",
    "    for i in out.splitlines():\n",
    "        if i.startswith(\"FINAL SINGLE POINT ENERGY\"):\n",
    "            return(float(i[len(\"FINAL SINGLE POINT ENERGY\"):]))\n",
    "    # and return it as float\n",
    "    return out.splitlines()"
   ]
  },
  {
   "cell_type": "markdown",
   "metadata": {},
   "source": [
    "Зависимость энергии молекулы от длины одной связи:"
   ]
  },
  {
   "cell_type": "code",
   "execution_count": 41,
   "metadata": {},
   "outputs": [],
   "source": [
    "def energy_dependency(x,y,title,lim1,lim2):\n",
    "    # fake x array , replace with real one\n",
    "    x_o=x\n",
    "    # fake y array, replace with energies\n",
    "    y_o=y\n",
    "\n",
    "    #function is  f(x)=k(b-x)^2 + a\n",
    "    fitfunc = lambda p, x: p[0]*pow(p[1]-x,2) + p[2] # Target function\n",
    "    errfunc = lambda p, x, y: fitfunc(p, x) - y # Error function\n",
    "\n",
    "    p0 = [1,1, -79] # Initial guess for the parameters\n",
    "    p1, success = optimize.leastsq(errfunc, p0[:], args=(x_o, y_o))\n",
    "    print \"Optimized params:\", p1\n",
    "\n",
    "    #Plot it\n",
    "    plt.plot(x_o, y_o, \"ro\", x_o,fitfunc(p1,x_o),\"r-\",c='blue',alpha=0.5)\n",
    "    plt.xlim(lim1,lim2)\n",
    "    plt.title(title)\n",
    "    plt.show()"
   ]
  },
  {
   "cell_type": "markdown",
   "metadata": {},
   "source": [
    "**Формируем массив 20 различных длинн связи с шагом в 0.02 ангстрем**"
   ]
  },
  {
   "cell_type": "code",
   "execution_count": 34,
   "metadata": {},
   "outputs": [
    {
     "name": "stdout",
     "output_type": "stream",
     "text": [
      "[ 1.32986  1.34986  1.36986  1.38986  1.40986  1.42986  1.44986  1.46986\n",
      "  1.48986  1.50986  1.52986  1.54986  1.56986  1.58986  1.60986  1.62986\n",
      "  1.64986  1.66986  1.68986  1.70986  1.72986]\n"
     ]
    }
   ],
   "source": [
    "link_lengths = np.arange(-10,11)*0.02 + 1.52986\n",
    "print (link_lengths)"
   ]
  },
  {
   "cell_type": "code",
   "execution_count": 37,
   "metadata": {},
   "outputs": [
    {
     "name": "stdout",
     "output_type": "stream",
     "text": [
      "[-79.045965590053, -79.053603047453, -79.060094932942, -79.06554485476, -79.070047523842, -79.073689505281, -79.076549916355, -79.078701061159, -79.080208995167, -79.081134076599, -79.081531431378, -79.081451404937, -79.080939963093, -79.080039062387, -79.078786990807, -79.077218675992, -79.075365973146, -79.073257919932, -79.070920984592, -79.068379281351, -79.065654773152]\n"
     ]
    }
   ],
   "source": [
    "energy_len = list()\n",
    "\n",
    "for i in link_lengths:\n",
    "    energy_len.append(run_orca(inp_len(i)))\n",
    "\n",
    "print(energy_len)"
   ]
  },
  {
   "cell_type": "markdown",
   "metadata": {},
   "source": [
    "**Рисуем график зависимости энергии молекулы от длины связи C-C**"
   ]
  },
  {
   "cell_type": "code",
   "execution_count": 42,
   "metadata": {},
   "outputs": [
    {
     "name": "stdout",
     "output_type": "stream",
     "text": [
      "Optimized params: [  0.6399189    1.5569929  -79.08219401]\n"
     ]
    },
    {
     "data": {
      "image/png": "[encoded data removed]",
      "text/plain": [
       "<matplotlib.figure.Figure at 0x7f0cac92db10>"
      ]
     },
     "metadata": {},
     "output_type": "display_data"
    }
   ],
   "source": [
    "energy_dependency(link_lengths,energy_len, 'Link length and energy',1.3,1.8)"
   ]
  },
  {
   "cell_type": "markdown",
   "metadata": {},
   "source": [
    "**Формируем массив 20 различных валентных углов в пределах от 109.2 до 113.2**"
   ]
  },
  {
   "cell_type": "code",
   "execution_count": 39,
   "metadata": {},
   "outputs": [],
   "source": [
    "def inp_angle(angle):\n",
    "    inp = '''!HF RHF 6-31G\n",
    "    * int 0 1\n",
    "    C 0 0 0 0 0 0 \n",
    "    C 1 0 0 1.52986 0 0 \n",
    "    H 1 2 0 1.08439 {0} 0\n",
    "    H 1 2 3 1.08439 {0} 120\n",
    "    H 1 2 3 1.08439 {0} -120\n",
    "    H 2 1 3 1.08439 {0} 180\n",
    "    H 2 1 5 1.08439 {0} 120\n",
    "    H 2 1 5 1.08439 {0} -120\n",
    "    *\n",
    "    '''.format(angle)\n",
    "    return inp"
   ]
  },
  {
   "cell_type": "code",
   "execution_count": 26,
   "metadata": {},
   "outputs": [
    {
     "name": "stdout",
     "output_type": "stream",
     "text": [
      "[ 109.2  109.4  109.6  109.8  110.   110.2  110.4  110.6  110.8  111.\n",
      "  111.2  111.4  111.6  111.8  112.   112.2  112.4  112.6  112.8  113. ]\n"
     ]
    }
   ],
   "source": [
    "angles = np.arange(109.2,113.2,(113.2-109.2)/20)\n",
    "print(angles)"
   ]
  },
  {
   "cell_type": "code",
   "execution_count": 27,
   "metadata": {},
   "outputs": [
    {
     "data": {
      "text/plain": [
       "20"
      ]
     },
     "execution_count": 27,
     "metadata": {},
     "output_type": "execute_result"
    }
   ],
   "source": [
    "len(angles)"
   ]
  },
  {
   "cell_type": "code",
   "execution_count": 29,
   "metadata": {},
   "outputs": [
    {
     "name": "stdout",
     "output_type": "stream",
     "text": [
      "[-79.078791138209, -79.079183400066, -79.079549472821, -79.079889311529, -79.080202891616, -79.080490187722, -79.080751172795, -79.080985818069, -79.08119409307, -79.081375965653, -79.081531402161, -79.081660366819, -79.081762822554, -79.081838730525, -79.081888050195, -79.081910739351, -79.081906754045, -79.081876048815, -79.081818576377, -79.081734287686]\n"
     ]
    }
   ],
   "source": [
    "energy_angles = list()\n",
    "\n",
    "for i in angles:\n",
    "    energy_angles.append(run_orca(inp_angle(i)))\n",
    "\n",
    "print(energy_angles)"
   ]
  },
  {
   "cell_type": "markdown",
   "metadata": {},
   "source": [
    "**Рисуем график зависимости энергии молекулы от валентного угла**"
   ]
  },
  {
   "cell_type": "code",
   "execution_count": 43,
   "metadata": {},
   "outputs": [
    {
     "name": "stdout",
     "output_type": "stream",
     "text": [
      "Optimized params: [  3.30816671e-04   1.12271983e+02  -7.90819114e+01]\n"
     ]
    },
    {
     "data": {
      "image/png": "[encoded data removed]",
      "text/plain": [
       "<matplotlib.figure.Figure at 0x7f0cac96b190>"
      ]
     },
     "metadata": {},
     "output_type": "display_data"
    }
   ],
   "source": [
    "energy_dependency(angles,energy_angles, 'valence angles and energy',109,113.4)"
   ]
  },
  {
   "cell_type": "markdown",
   "metadata": {},
   "source": [
    "Отличная аппроксимация, как и ожидалось (из лекции)."
   ]
  },
  {
   "cell_type": "markdown",
   "metadata": {},
   "source": [
    "**Формируем массив различных торсионных углов в пределах от -180 до 180 с шагом 12**"
   ]
  },
  {
   "cell_type": "code",
   "execution_count": 65,
   "metadata": {},
   "outputs": [],
   "source": [
    "def inp_torsion(torsion):\n",
    "    torsion1 = torsion - 60.\n",
    "    torsion2 = torsion + 60.\n",
    "    inp = '''!HF RHF 6-31G\n",
    "    * int 0 1\n",
    "    C 0 0 0 0 0 0 \n",
    "    C 1 0 0 1.52986 0 0 \n",
    "    H 1 2 0 1.08439 111.200 0\n",
    "    H 1 2 3 1.08439 111.200 120\n",
    "    H 1 2 3 1.08439 111.200 -120\n",
    "    H 2 1 3 1.08439 111.200 {0}\n",
    "    H 2 1 5 1.08439 111.200 {1}\n",
    "    H 2 1 5 1.08439 111.200 {2}\n",
    "    *\n",
    "    '''.format(torsion, torsion1, torsion2)\n",
    "    return inp"
   ]
  },
  {
   "cell_type": "code",
   "execution_count": 54,
   "metadata": {},
   "outputs": [
    {
     "name": "stdout",
     "output_type": "stream",
     "text": [
      "[-180 -168 -156 -144 -132 -120 -108  -96  -84  -72  -60  -48  -36  -24  -12\n",
      "    0   12   24   36   48   60   72   84   96  108  120  132  144  156  168\n",
      "  180]\n"
     ]
    }
   ],
   "source": [
    "torsions = np.arange(-180,192,12)\n",
    "print(torsions)"
   ]
  },
  {
   "cell_type": "code",
   "execution_count": 55,
   "metadata": {},
   "outputs": [
    {
     "data": {
      "text/plain": [
       "31"
      ]
     },
     "execution_count": 55,
     "metadata": {},
     "output_type": "execute_result"
    }
   ],
   "source": [
    "len(torsions)"
   ]
  },
  {
   "cell_type": "code",
   "execution_count": 66,
   "metadata": {},
   "outputs": [
    {
     "name": "stdout",
     "output_type": "stream",
     "text": [
      "[-79.08153142935, -79.082613733245, -79.083665197014, -79.084283343101, -79.084235490395, -79.083542971541, -79.082468786938, -79.081419140127, -79.080793992197, -79.080835703972, -79.081531425731, -79.082613733261, -79.083665196902, -79.084283343103, -79.084235490374, -79.083542971544, -79.082468786883, -79.081419140194, -79.080793992237, -79.080835704057, -79.081531425784, -79.082613733277, -79.083665197014, -79.084283343103, -79.084235490391, -79.083542971545, -79.082468786931, -79.081419140068, -79.080793992183, -79.080835703989, -79.081531425729]\n"
     ]
    }
   ],
   "source": [
    "energy_torsions = []\n",
    "\n",
    "for i in torsions:\n",
    "    energy_torsions.append(run_orca(inp_torsion(i)))\n",
    "\n",
    "print(energy_torsions)"
   ]
  },
  {
   "cell_type": "markdown",
   "metadata": {},
   "source": [
    "**Рисуем график зависимости энергии молекулы от валентного угла**"
   ]
  },
  {
   "cell_type": "code",
   "execution_count": 67,
   "metadata": {},
   "outputs": [
    {
     "name": "stdout",
     "output_type": "stream",
     "text": [
      "Optimized params: [  1.32752340e-08  -8.81800517e+01  -7.90827626e+01]\n"
     ]
    },
    {
     "data": {
      "image/png": "[encoded data removed]",
      "text/plain": [
       "<matplotlib.figure.Figure at 0x7f0cacad3310>"
      ]
     },
     "metadata": {},
     "output_type": "display_data"
    }
   ],
   "source": [
    "energy_dependency(torsions,energy_torsions, 'torsions and energy',-180,180)"
   ]
  },
  {
   "cell_type": "markdown",
   "metadata": {},
   "source": [
    "Зафитим функцию через Фурье"
   ]
  },
  {
   "cell_type": "code",
   "execution_count": 69,
   "metadata": {},
   "outputs": [
    {
     "name": "stdout",
     "output_type": "stream",
     "text": [
      "Optimized params: [ -1.50760509e-03   9.94841116e-01  -7.90825389e+01  -1.00591817e-03\n",
      "  -7.90110580e+01]\n"
     ]
    },
    {
     "data": {
      "image/png": "[encoded data removed]",
      "text/plain": [
       "<matplotlib.figure.Figure at 0x7f0cac7984d0>"
      ]
     },
     "metadata": {},
     "output_type": "display_data"
    }
   ],
   "source": [
    "lim1 = -180\n",
    "lim2 = 180\n",
    "title = 'torsions and energy'\n",
    "\n",
    "\n",
    "# fake x array , replace with real one\n",
    "x_o=torsions\n",
    "# fake y array, replace with energies\n",
    "y_o=energy_torsions\n",
    "\n",
    "#function is  f(x)=k(b-x)^2 + a\n",
    "fitfunc = lambda p, x: p[0]*np.sin(p[1]*x)+p[3]*np.cos(p[4]*x) + p[2] # Target function\n",
    "errfunc = lambda p, x, y: fitfunc(p, x) - y # Error function\n",
    "\n",
    "p0 = [1,1,1,1, -79] # Initial guess for the parameters\n",
    "p1, success = optimize.leastsq(errfunc, p0[:], args=(x_o, y_o))\n",
    "print \"Optimized params:\", p1\n",
    "\n",
    "#Plot it\n",
    "plt.plot(x_o, y_o, \"ro\", x_o,fitfunc(p1,x_o),\"r-\",c='blue',alpha=0.5)\n",
    "plt.xlim(lim1,lim2)\n",
    "plt.title(title)\n",
    "plt.show()"
   ]
  },
  {
   "cell_type": "markdown",
   "metadata": {},
   "source": [
    "**Увеличиваем шаг до 0.1 ангстрема**"
   ]
  },
  {
   "cell_type": "code",
   "execution_count": 72,
   "metadata": {},
   "outputs": [
    {
     "name": "stdout",
     "output_type": "stream",
     "text": [
      "[ 0.52986  0.62986  0.72986  0.82986  0.92986  1.02986  1.12986  1.22986\n",
      "  1.32986  1.42986  1.52986  1.62986  1.72986  1.82986  1.92986  2.02986\n",
      "  2.12986  2.22986  2.32986  2.42986]\n"
     ]
    }
   ],
   "source": [
    "link_lengths_2 = np.arange(-10,10)*0.1 + 1.52986\n",
    "print (link_lengths_2)"
   ]
  },
  {
   "cell_type": "code",
   "execution_count": 73,
   "metadata": {},
   "outputs": [
    {
     "data": {
      "text/plain": [
       "20"
      ]
     },
     "execution_count": 73,
     "metadata": {},
     "output_type": "execute_result"
    }
   ],
   "source": [
    "len(link_lengths_2)"
   ]
  },
  {
   "cell_type": "code",
   "execution_count": 74,
   "metadata": {},
   "outputs": [
    {
     "name": "stdout",
     "output_type": "stream",
     "text": [
      "[-73.376057904506, -75.600038674084, -76.986925190758, -77.840020402069, -78.364137030277, -78.683902686411, -78.875495245128, -78.986233920144, -79.045965568718, -79.07368949118, -79.081531419723, -79.077218664924, -79.065654757297, -79.049930677904, -79.031982697254, -79.013023521421, -78.993820247811, -78.974866462702, -78.956483580267, -78.938878296987]\n"
     ]
    }
   ],
   "source": [
    "energy_len_2 = list()\n",
    "\n",
    "for i in link_lengths_2:\n",
    "    energy_len_2.append(run_orca(inp_len(i)))\n",
    "\n",
    "print(energy_len_2)"
   ]
  },
  {
   "cell_type": "code",
   "execution_count": 75,
   "metadata": {},
   "outputs": [
    {
     "name": "stdout",
     "output_type": "stream",
     "text": [
      "Optimized params: [  2.95586926   1.75910803 -79.56411644]\n"
     ]
    },
    {
     "data": {
      "image/png": "[encoded data removed]",
      "text/plain": [
       "<matplotlib.figure.Figure at 0x7f0cac82cf10>"
      ]
     },
     "metadata": {},
     "output_type": "display_data"
    }
   ],
   "source": [
    "energy_dependency(link_lengths_2,energy_len_2, 'New link length and energy',0.52,2.43)"
   ]
  },
  {
   "cell_type": "markdown",
   "metadata": {},
   "source": [
    "**Зафитим гиперболой:**"
   ]
  },
  {
   "cell_type": "code",
   "execution_count": 76,
   "metadata": {},
   "outputs": [
    {
     "name": "stdout",
     "output_type": "stream",
     "text": [
      "Optimized params: [-79.3302211    2.80503328]\n"
     ]
    },
    {
     "data": {
      "image/png": "[encoded data removed]",
      "text/plain": [
       "<matplotlib.figure.Figure at 0x7f0caadf8610>"
      ]
     },
     "metadata": {},
     "output_type": "display_data"
    }
   ],
   "source": [
    "lim1 = 0.52\n",
    "lim2 = 2.43\n",
    "title = 'New link length and energy'\n",
    "\n",
    "# fake x array , replace with real one\n",
    "x_o=link_lengths_2\n",
    "# fake y array, replace with energies\n",
    "y_o=energy_len_2\n",
    "\n",
    "fitfunc = lambda p, x: pow(1/x,p[1])+p[0] # Target function\n",
    "errfunc = lambda p, x, y: fitfunc(p, x) - y # Error function\n",
    "\n",
    "p0 = [1, -79] # Initial guess for the parameters\n",
    "p1, success = optimize.leastsq(errfunc, p0[:], args=(x_o, y_o))\n",
    "print \"Optimized params:\", p1\n",
    "\n",
    "#Plot it\n",
    "plt.plot(x_o, y_o, \"ro\", x_o,fitfunc(p1,x_o),\"r-\",c='blue',alpha=0.5)\n",
    "plt.xlim(lim1,lim2)\n",
    "plt.title(title)\n",
    "plt.show()"
   ]
  }
 ],
 "metadata": {
  "kernelspec": {
   "display_name": "hse-py27",
   "language": "python",
   "name": "hse"
  },
  "language_info": {
   "codemirror_mode": {
    "name": "ipython",
    "version": 2
   },
   "file_extension": ".py",
   "mimetype": "text/x-python",
   "name": "python",
   "nbconvert_exporter": "python",
   "pygments_lexer": "ipython2",
   "version": "2.7.14"
  }
 },
 "nbformat": 4,
 "nbformat_minor": 2
}
