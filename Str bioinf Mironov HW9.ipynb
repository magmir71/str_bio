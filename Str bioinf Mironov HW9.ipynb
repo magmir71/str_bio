{
 "cells": [
  {
   "cell_type": "markdown",
   "metadata": {},
   "source": [
    "**Директория на ShadBox**\n",
    "\n",
    "/hse/amironov/Task9"
   ]
  },
  {
   "cell_type": "markdown",
   "metadata": {},
   "source": [
    "**Изучение работы методов контроля температуры в молекулярной динамике**"
   ]
  },
  {
   "cell_type": "code",
   "execution_count": 1,
   "metadata": {},
   "outputs": [],
   "source": [
    "import rdkit\n",
    "from rdkit import Chem\n",
    "from rdkit.Chem import AllChem, Draw\n",
    "from rdkit.Chem import Descriptors\n",
    "from rdkit import RDConfig\n",
    "from IPython.display import Image,display\n",
    "import numpy as np\n",
    "import matplotlib\n",
    "from matplotlib import pyplot as plt\n",
    "%matplotlib inline"
   ]
  },
  {
   "cell_type": "code",
   "execution_count": null,
   "metadata": {},
   "outputs": [],
   "source": [
    "_Bash_\n",
    "\n",
    "wget http://kodomo.fbb.msu.ru/FBB/year_08/term6/etane.gro\n",
    "    \n",
    "cat /usr/share/gromacs/top/oplsaa.ff/atomtypes.atp"
   ]
  },
  {
   "cell_type": "code",
   "execution_count": null,
   "metadata": {},
   "outputs": [],
   "source": [
    "# Файл ethane.gro устроен следующим образом:\n",
    "\n",
    "etane\n",
    "8\n",
    "    1ETH     C1    1   0.577   0.217   0.574\n",
    "    1ETH     C2    2   0.680   0.252   0.467\n",
    "    1ETH     H1    3   0.478   0.241   0.538\n",
    "    1ETH     H2    4   0.597   0.274   0.664\n",
    "    1ETH     H3    5   0.583   0.111   0.597\n",
    "    1ETH     H4    6   0.676   0.358   0.445\n",
    "    1ETH     H5    7   0.660   0.195   0.377\n",
    "    1ETH     H6    8   0.780   0.228   0.504\n",
    "   1.50000   1.50000   1.50000"
   ]
  },
  {
   "cell_type": "markdown",
   "metadata": {},
   "source": [
    "**Угадываем типы атомов**"
   ]
  },
  {
   "cell_type": "code",
   "execution_count": 2,
   "metadata": {},
   "outputs": [],
   "source": [
    "# загрузим модули\n",
    "import rdkit\n",
    "from rdkit import Chem\n",
    "from rdkit.Chem import AllChem, Draw\n",
    "from rdkit.Chem import Descriptors\n",
    "from rdkit import RDConfig\n",
    "from IPython.display import Image,display\n",
    "import numpy as np"
   ]
  },
  {
   "cell_type": "code",
   "execution_count": 3,
   "metadata": {},
   "outputs": [
    {
     "data": {
      "text/plain": [
       "0"
      ]
     },
     "execution_count": 3,
     "metadata": {},
     "output_type": "execute_result"
    }
   ],
   "source": [
    "# создадим этан\n",
    "mol=Chem.MolFromSmiles('CC')\n",
    "AllChem.Compute2DCoords(mol)\n",
    "m3d=Chem.AddHs(mol)\n",
    "Chem.AllChem.EmbedMolecule(m3d)\n",
    "AllChem.MMFFOptimizeMolecule(m3d,maxIters=500,nonBondedThresh=200 )"
   ]
  },
  {
   "cell_type": "code",
   "execution_count": 4,
   "metadata": {},
   "outputs": [
    {
     "name": "stdout",
     "output_type": "stream",
     "text": [
      "0 1\n",
      "0 2\n",
      "0 3\n",
      "0 4\n",
      "1 5\n",
      "1 6\n",
      "1 7\n",
      "1 0 2\n",
      "1 0 3\n",
      "1 0 4\n",
      "2 0 1\n",
      "2 0 3\n",
      "2 0 4\n",
      "3 0 1\n",
      "3 0 2\n",
      "3 0 4\n",
      "4 0 1\n",
      "4 0 2\n",
      "4 0 3\n",
      "5 1 6\n",
      "5 1 7\n",
      "6 1 5\n",
      "6 1 7\n",
      "7 1 5\n",
      "7 1 6\n",
      "2 1 3 1\n",
      "2 1 4 1\n",
      "2 1 5 1\n",
      "3 1 2 1\n",
      "3 1 4 1\n",
      "3 1 5 1\n",
      "4 1 2 1\n",
      "4 1 3 1\n",
      "4 1 5 1\n",
      "5 1 2 1\n",
      "5 1 3 1\n",
      "5 1 4 1\n",
      "6 2 7 1\n",
      "6 2 8 1\n",
      "7 2 6 1\n",
      "7 2 8 1\n",
      "8 2 6 1\n",
      "8 2 7 1\n"
     ]
    }
   ],
   "source": [
    "# и придумаем циклы \n",
    "## связи\n",
    "bonds = m3d.GetBonds()\n",
    "for i,b in enumerate(bonds):\n",
    "    print b.GetBeginAtomIdx() , b.GetEndAtomIdx()\n",
    "\n",
    "## углы    \n",
    "for b1 in m3d.GetBonds():\n",
    "    for b2 in m3d.GetBonds():\n",
    "        if b1.GetBeginAtomIdx() == b2.GetBeginAtomIdx() and b1.GetIdx() != b2.GetIdx():\n",
    "            print b1.GetEndAtomIdx() , b1.GetBeginAtomIdx(), b2.GetEndAtomIdx()\n",
    "## dihedrals            \n",
    "for b1 in m3d.GetBonds():\n",
    "    for b2 in m3d.GetBonds():\n",
    "        if b1.GetBeginAtomIdx() == b2.GetBeginAtomIdx() and b1.GetIdx() != b2.GetIdx():\n",
    "            print b1.GetEndAtomIdx()+1 , b1.GetBeginAtomIdx()+1, b2.GetEndAtomIdx()+1, 1"
   ]
  },
  {
   "cell_type": "markdown",
   "metadata": {},
   "source": [
    "**Убираем дубликаты**"
   ]
  },
  {
   "cell_type": "code",
   "execution_count": 5,
   "metadata": {},
   "outputs": [
    {
     "name": "stdout",
     "output_type": "stream",
     "text": [
      "3 1 2 6 1\n",
      "3 1 2 7 1\n",
      "3 1 2 8 1\n",
      "4 1 2 6 1\n",
      "4 1 2 7 1\n",
      "4 1 2 8 1\n",
      "5 1 2 6 1\n",
      "5 1 2 7 1\n",
      "5 1 2 8 1\n"
     ]
    }
   ],
   "source": [
    "for b1 in m3d.GetBonds():\n",
    "    for b2 in m3d.GetBonds():\n",
    "        for b3 in m3d.GetBonds():\n",
    "            if b1.GetBeginAtomIdx() == b2.GetBeginAtomIdx() and b1.GetIdx() != b2.GetIdx() and b2.GetEndAtomIdx() == b3.GetBeginAtomIdx():\n",
    "                print b1.GetEndAtomIdx()+1 , b1.GetBeginAtomIdx()+1, b2.GetEndAtomIdx()+1, b3.GetEndAtomIdx()+1, 1"
   ]
  },
  {
   "cell_type": "markdown",
   "metadata": {},
   "source": [
    "Получили торсионные углы!"
   ]
  }
 ],
 "metadata": {
  "kernelspec": {
   "display_name": "hse-py27",
   "language": "python",
   "name": "hse"
  },
  "language_info": {
   "codemirror_mode": {
    "name": "ipython",
    "version": 2
   },
   "file_extension": ".py",
   "mimetype": "text/x-python",
   "name": "python",
   "nbconvert_exporter": "python",
   "pygments_lexer": "ipython2",
   "version": "2.7.14"
  }
 },
 "nbformat": 4,
 "nbformat_minor": 2
}
